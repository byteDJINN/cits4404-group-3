{
 "cells": [
  {
   "cell_type": "markdown",
   "metadata": {
    "collapsed": false
   },
   "source": [
    "### CITS4404 Practical Project\n",
    "\n",
    "# Camo Worms!\n",
    "\n",
    "<div style=\"margin-left: 0px\">\n",
    "    &nbsp;\n",
    "    <img src=\"velvet-worms.jpg\" width=600>\n",
    "    <br>\n",
    "    <br>\n",
    "</div>\n",
    "\n",
    "Australian _velvet worms_ come in many colours, possibly as a camouflage function ([Current Biology](https://www.cell.com/current-biology/comments/S0960-9822(11)00208-9))."
   ]
  },
  {
   "cell_type": "code",
   "execution_count": 0,
   "metadata": {
    "collapsed": false
   },
   "outputs": [
   ],
   "source": [
    "# Imports\n",
    "\n",
    "import numpy as np\n",
    "import imageio.v3 as iio\n",
    "\n",
    "import matplotlib as mpl\n",
    "import matplotlib.pyplot as plt\n",
    "import matplotlib.path as mpath\n",
    "import matplotlib.patches as mpatches\n",
    "import matplotlib.bezier as mbezier\n",
    "from sklearn.metrics.pairwise import euclidean_distances\n",
    "\n",
    "rng = np.random.default_rng()\n",
    "Path = mpath.Path\n",
    "mpl.rcParams['figure.dpi']= 72 #size of images\n"
   ]
  },
  {
   "cell_type": "code",
   "execution_count": 0,
   "metadata": {
    "collapsed": false
   },
   "outputs": [
   ],
   "source": [
    "# Global variables\n",
    "\n",
    "IMAGE_DIR = 'images'\n",
    "IMAGE_NAME='original'\n",
    "MASK = [320, 560, 160, 880] # ymin ymax xmin xmax"
   ]
  },
  {
   "cell_type": "code",
   "execution_count": 0,
   "metadata": {
    "collapsed": false
   },
   "outputs": [
   ],
   "source": [
    "# Read, crop and display image and stats\n",
    "\n",
    "def crop (image, mask):\n",
    "    h, w = np.shape(image)\n",
    "    return image[max(mask[0],0):min(mask[1],h), max(mask[2],0):min(mask[3],w)]\n",
    "\n",
    "def prep_image (imdir, imname, mask):\n",
    "    print(\"Image name (shape) (intensity max, min, mean, std)\\n\")\n",
    "    image = np.flipud(crop(iio.imread(imdir+'/'+imname+\".png\"), mask))\n",
    "    print(\"{} {} ({}, {}, {}, {})\".format(imname, np.shape(image), np.max(image), np.min(image), round(np.mean(image),1), round(np.std(image),1)))\n",
    "    plt.imshow(image, vmin=0, vmax=255, cmap='gray', origin='lower') # use vmin and vmax to stop imshow from scaling\n",
    "    plt.show()\n",
    "    return image\n",
    "\n",
    "image = prep_image(IMAGE_DIR, IMAGE_NAME, MASK)"
   ]
  },
  {
   "cell_type": "code",
   "execution_count": 0,
   "metadata": {
    "collapsed": false
   },
   "outputs": [
   ],
   "source": [
    "class Camo_Worm:\n",
    "    def __init__(self, x, y, r, theta, deviation_r, deviation_gamma, width, colour):\n",
    "        self.x = x\n",
    "        self.y = y\n",
    "        self.r = r\n",
    "        self.theta = theta\n",
    "        self.dr = deviation_r\n",
    "        self.dgamma = deviation_gamma\n",
    "        self.width = width\n",
    "        self.colour = colour\n",
    "        p0 = [self.x - self.r * np.cos(self.theta), self.y - self.r * np.sin(self.theta)]\n",
    "        p2 = [self.x + self.r * np.cos(self.theta), self.y + self.r * np.sin(self.theta)]\n",
    "        p1 = [self.x + self.dr * np.cos(self.theta+self.dgamma), self.y + self.dr * np.sin(self.theta+self.dgamma)]\n",
    "        self.bezier = mbezier.BezierSegment(np.array([p0, p1,p2]))\n",
    "\n",
    "    def control_points (self):\n",
    "        return self.bezier.control_points\n",
    "\n",
    "    def path (self):\n",
    "        return mpath.Path(self.control_points(), [Path.MOVETO, Path.CURVE3, Path.CURVE3])\n",
    "\n",
    "    def patch (self):\n",
    "        return mpatches.PathPatch(self.path(), fc='None', ec=str(self.colour), lw=self.width, capstyle='round')\n",
    "\n",
    "    def intermediate_points (self, intervals=None):\n",
    "        if intervals is None:\n",
    "            intervals = max(3, int(np.ceil(self.r/8)))\n",
    "        return self.bezier.point_at_t(np.linspace(0,1,intervals))\n",
    "\n",
    "    def approx_length (self):\n",
    "        intermediates = intermediate_points(self)\n",
    "        eds = euclidean_distances(intermediates,intermediates)\n",
    "        return np.sum(np.diag(eds,1))\n",
    "\n",
    "    def colour_at_t(self, t, image):\n",
    "        intermediates = np.int64(np.round(np.array(self.bezier.point_at_t(t)).reshape(-1,2)))\n",
    "        colours = [image[point[0],point[1]] for point in intermediates]\n",
    "        return(np.array(colours)/255)\n"
   ]
  },
  {
   "cell_type": "code",
   "execution_count": 0,
   "metadata": {
    "collapsed": false
   },
   "outputs": [
   ],
   "source": [
    "class Drawing:\n",
    "    def __init__ (self, image):\n",
    "        self.fig, self.ax = plt.subplots()\n",
    "        self.image = image\n",
    "        self.im = self.ax.imshow(self.image, cmap='gray', origin='lower')\n",
    "\n",
    "    def add_patches(self, patches):\n",
    "        try:\n",
    "            for patch in patches:\n",
    "                self.ax.add_patch(patch)\n",
    "        except TypeError:\n",
    "            self.ax.add_patch(patches)\n",
    "\n",
    "    def add_dots(self, points, radius=4, **kwargs):\n",
    "        try:\n",
    "            for point in points:\n",
    "                self.ax.add_patch(mpatches.Circle((point[0],point[1]), radius, **kwargs))\n",
    "        except TypeError:\n",
    "            self.ax.add_patch(mpatches.Circle((points[0],points[1]), radius, **kwargs))\n",
    "\n",
    "    def add_worms(self, worms):\n",
    "        try:\n",
    "            self.add_patches([w.patch() for w in worms])\n",
    "        except TypeError:\n",
    "            self.add_patches([worms.patch()])\n",
    "\n",
    "    def show(self, save=None):\n",
    "        if save is not None:\n",
    "            plt.savefig(save)\n",
    "        plt.show()\n"
   ]
  },
  {
   "cell_type": "code",
   "execution_count": 0,
   "metadata": {
    "collapsed": false
   },
   "outputs": [
   ],
   "source": [
    "# Example of a random worm. You may do this differently.\n",
    "\n",
    "    # centre points, angles and colour chosen from uniform distributions\n",
    "    # lengths chosen from normal distributions with two std parameters passed\n",
    "    # width chosen from gamma distribution with shape parameter 3 and scale passed\n",
    "\n",
    "def random_worm (imshape, init_params):\n",
    "    (radius_std, deviation_std, width_theta) = init_params\n",
    "    (ylim, xlim) = imshape\n",
    "    midx = xlim * rng.random()\n",
    "    midy = ylim * rng.random()\n",
    "    r = radius_std * np.abs(rng.standard_normal())\n",
    "    theta = rng.random() * np.pi\n",
    "    dr = deviation_std * np.abs(rng.standard_normal())\n",
    "    dgamma = rng.random() * np.pi\n",
    "    colour = rng.random()\n",
    "    width = width_theta * rng.standard_gamma(3)\n",
    "    return Camo_Worm(midx, midy, r, theta, dr, dgamma, width, colour)\n"
   ]
  },
  {
   "cell_type": "code",
   "execution_count": 0,
   "metadata": {
    "collapsed": false
   },
   "outputs": [
   ],
   "source": [
    "# Initialise a random clew\n",
    "\n",
    "def initialise_clew (size, imshape, init_params):\n",
    "    clew = []\n",
    "    for i in range(size):\n",
    "        clew.append(random_worm(imshape, init_params))\n",
    "    return clew"
   ]
  },
  {
   "cell_type": "code",
   "execution_count": 0,
   "metadata": {
    "collapsed": false
   },
   "outputs": [
   ],
   "source": [
    "# Initialise clew of 40 and draw\n",
    "\n",
    "clew = initialise_clew(40, image.shape, (40, 30, 1))\n",
    "drawing = Drawing(image)\n",
    "drawing.add_worms(clew)\n",
    "drawing.show()"
   ]
  },
  {
   "cell_type": "code",
   "execution_count": 0,
   "metadata": {
    "collapsed": false
   },
   "outputs": [
   ],
   "source": [
    "# Draw a single worm along with control points and some sample points\n",
    "\n",
    "worm = Camo_Worm(200, 100, 50, np.pi/6, 70, np.pi/3, 10, 0.8)\n",
    "drawing = Drawing(image)\n",
    "drawing.add_worms(worm)\n",
    "drawing.add_dots(worm.intermediate_points(8), radius=2, color='green')\n",
    "drawing.add_dots(worm.control_points(),color='orange')\n",
    "drawing.add_dots((200,100), color='blue')\n",
    "\n",
    "drawing.show(save='bezier.png')"
   ]
  },
  {
   "cell_type": "markdown",
   "metadata": {
    "collapsed": false
   },
   "source": [
    "&copy; Cara MacNish, UWA, 2024"
   ]
  }
 ],
 "metadata": {
  "kernelspec": {
   "argv": [
    "/usr/bin/python3",
    "-m",
    "ipykernel",
    "--HistoryManager.enabled=False",
    "--matplotlib=inline",
    "-c",
    "%config InlineBackend.figure_formats = set(['retina'])\nimport matplotlib; matplotlib.rcParams['figure.figsize'] = (12, 7)",
    "-f",
    "{connection_file}"
   ],
   "display_name": "Python 3 (system-wide)",
   "env": {
   },
   "language": "python",
   "metadata": {
    "cocalc": {
     "description": "Python 3 programming language",
     "priority": 100,
     "url": "https://www.python.org/"
    }
   },
   "name": "python3",
   "resource_dir": "/ext/jupyter/kernels/python3"
  },
  "language_info": {
   "codemirror_mode": {
    "name": "ipython",
    "version": 3
   },
   "file_extension": ".py",
   "mimetype": "text/x-python",
   "name": "python",
   "nbconvert_exporter": "python",
   "pygments_lexer": "ipython3",
   "version": "3.8.10"
  },
  "nbgrader": {
   "__altered": false,
   "__hash": -335098374,
   "_root": {
    "entries": [
     [
      "cocalc_minimal_stubs",
      false
     ]
    ],
    "ownerID": {
    }
   },
   "cocalc_minimal_stubs": false,
   "size": 1
  }
 },
 "nbformat": 4,
 "nbformat_minor": 4
}